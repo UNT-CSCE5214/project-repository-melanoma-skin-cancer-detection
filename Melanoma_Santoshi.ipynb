{
 "cells": [
  {
   "cell_type": "markdown",
   "metadata": {
    "_uuid": "ddc1696de7056153705545559243f674c7d58cbc"
   },
   "source": [
    "Classify pigmented skin lesions dermatoscopic images from HAM10k https://www.nature.com/articles/sdata2018161 into 7 diagnosis\n"
   ]
  },
  {
   "cell_type": "code",
   "execution_count": null,
   "metadata": {
    "_cell_guid": "b1076dfc-b9ad-4769-8c92-a6c4dae69d19",
    "_uuid": "8f2839f25d086af736a60e9eeb907d3b93b6e0e5",
    "scrolled": true
   },
   "outputs": [],
   "source": [
    "# IMPORT MODULES\n",
    "import sys\n",
    "from os.path import join\n",
    "import numpy as np # linear algebra\n",
    "import pandas as pd # data processing, CSV file I/O (e.g. pd.read_csv)\n",
    "import matplotlib.pyplot as plt\n",
    "import cv2\n",
    "import tensorflow as tf\n",
    "from tensorflow.python.keras.applications.resnet50 import preprocess_input\n",
    "from tensorflow.python.keras.preprocessing.image import load_img, img_to_array\n",
    "#from tensorflow.python.keras.applications import ResNet50\n",
    "\n",
    "from keras import models, regularizers, layers, optimizers, losses, metrics\n",
    "from keras.models import Sequential\n",
    "from keras.layers import Dense\n",
    "from keras.layers import Conv2D, MaxPooling2D\n",
    "from keras.utils import np_utils, to_categorical\n",
    "from keras.preprocessing.image import ImageDataGenerator\n",
    "from keras.preprocessing import image\n",
    "from keras.applications import ResNet50\n",
    "from keras.models import Model,load_model\n",
    "import itertools\n",
    "from keras.applications.vgg16 import preprocess_input\n",
    "import os\n",
    "print(os.listdir(\"../\"))"
   ]
  },
  {
   "cell_type": "code",
   "execution_count": 2,
   "metadata": {
    "_uuid": "5064bf81b5f630d503ae2a3cafd3eaee64ed98c0"
   },
   "outputs": [
    {
     "name": "stdout",
     "output_type": "stream",
     "text": [
      "['valid', 'train_sep', 'test']\n"
     ]
    }
   ],
   "source": [
    "PATH = \"../input/dermmel/DermMel/\"\n",
    "print(os.listdir(PATH))"
   ]
  },
  {
   "cell_type": "code",
   "execution_count": null,
   "metadata": {
    "_uuid": "809e87a6cce6460cb8ebb0da6bb233d95d94a72a"
   },
   "outputs": [],
   "source": [
    "# Check content of the dirs\n",
    "\n",
    "PATHtrain = PATH + 'train_sep/'\n",
    "print(len(os.listdir(PATHtrain)), \" TRAIN Directories of photos\")\n",
    "Labels = os.listdir(PATHtrain)\n",
    "sig = 0\n",
    "for label in sorted(Labels):\n",
    "    print(label,len(os.listdir(PATHtrain + label +'/')))\n",
    "    sig = sig + len(os.listdir(PATHtrain + label +'/'))\n",
    "\n",
    "print(\"Total TRAIN photos \", sig)\n",
    "print(\"_\"*50)\n",
    "\n",
    "PATHvalid = PATH + 'valid/'\n",
    "print(len(os.listdir(PATHvalid)), \" VALID Directories of photos\")\n",
    "Labels = os.listdir(PATHvalid)\n",
    "sig = 0\n",
    "for label in sorted(Labels):\n",
    "    print(label,len(os.listdir(PATHvalid + label +'/')))\n",
    "    sig = sig + len(os.listdir(PATHvalid + label +'/'))\n",
    "\n",
    "print(\"Total Validation photos \", sig)\n",
    "print(\"_\"*50)\n",
    "\n"
   ]
  },
  {
   "cell_type": "markdown",
   "metadata": {
    "_uuid": "f66660baf4a096afffc4c476e82b454dfdf13450"
   },
   "source": [
    "for i, layer in enumerate(conv_base.layers):\n",
    "    print(i, layer.name, layer.trainable)"
   ]
  }
 ],
 "metadata": {
  "kernelspec": {
   "display_name": "Python 3",
   "language": "python",
   "name": "python3"
  },
  "language_info": {
   "codemirror_mode": {
    "name": "ipython",
    "version": 3
   },
   "file_extension": ".py",
   "mimetype": "text/x-python",
   "name": "python",
   "nbconvert_exporter": "python",
   "pygments_lexer": "ipython3",
   "version": "3.8.8"
  }
 },
 "nbformat": 4,
 "nbformat_minor": 4
}
